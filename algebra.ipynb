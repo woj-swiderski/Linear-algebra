{
 "cells": [
  {
   "cell_type": "code",
   "execution_count": 1,
   "metadata": {},
   "outputs": [],
   "source": [
    "import numpy as np\n",
    "import matplotlib.pyplot as plt\n",
    "%matplotlib inline\n",
    "\n",
    "np.set_printoptions(precision=3, suppress=True)"
   ]
  },
  {
   "cell_type": "markdown",
   "metadata": {},
   "source": [
    "## General remarks"
   ]
  },
  {
   "cell_type": "markdown",
   "metadata": {},
   "source": [
    "It appeals to me that it is better to define set of vectors as arrays. Vectors should be columnar\n",
    "and it is conveniently to define them as \n",
    "- `v = np.array([[1,2,-3]]).T`\n",
    "\n",
    "or equivalently (e.g `v = np.arange(5).reshape(-1,1))`\n",
    "\n",
    "It is also convenient to represent basis $[e_1, e_2,\\dots,e_n]$ as two-dimensional array: `np.hstack((e_1, e2, ..., e_n))`\n",
    "\n",
    "where `e_j` is the j-th (columnar!) vector."
   ]
  },
  {
   "cell_type": "code",
   "execution_count": 2,
   "metadata": {},
   "outputs": [],
   "source": [
    "class Vector(np.ndarray):\n",
    "    def __new__(cls, input_array):\n",
    "        obj = np.asarray(input_array).reshape(-1,1)\n",
    "        return obj"
   ]
  },
  {
   "cell_type": "code",
   "execution_count": 3,
   "metadata": {},
   "outputs": [],
   "source": [
    "def proj(v, u):\n",
    "    \"\"\"\n",
    "    Projects orthogonally v on u\n",
    "    \n",
    "    u, v - one dimensional vectors (n x 1 arrays)\n",
    "    \"\"\"\n",
    "    # what if u == 0?\n",
    "    return (u.T@v) / (u.T@u) * u"
   ]
  },
  {
   "cell_type": "code",
   "execution_count": 4,
   "metadata": {},
   "outputs": [],
   "source": [
    "def GS(V, inplace=False):\n",
    "    \"\"\"\n",
    "    Gramm-Schmidt ortogonalization\n",
    "    \n",
    "    V - n x m matrix - hstack of m n-dimensional vectors (n x 1 arrays).\n",
    "    returns: n x m matrix of orthogonalized vectors\n",
    "    \n",
    "    if inplace==True V is modified; otherwise a new matrix is returned\n",
    "    \"\"\"\n",
    "    U = np.array(V, copy=True)  # equivalent to np.copy(V)\n",
    "    m = V.shape[1]\n",
    "    for j in range(m):\n",
    "        for i in range(j):\n",
    "            U[:,j] -= proj(V[:,j], U[:,i])\n",
    "    return U"
   ]
  },
  {
   "cell_type": "code",
   "execution_count": 3,
   "metadata": {},
   "outputs": [],
   "source": [
    "def decompose_in_basis(vector, basis):\n",
    "    \"\"\"\n",
    "    vector - n x 1 array\n",
    "    basis - n x n array thought of as hstack of n x 1 dimensional creating basis of R^n\n",
    "    returns - coeffs of vector in basis \n",
    "    \"\"\"\n",
    "    return np.linalg.solve(basis, vector)"
   ]
  },
  {
   "cell_type": "code",
   "execution_count": 4,
   "metadata": {},
   "outputs": [],
   "source": [
    "def compose_in_basis(coeffs, basis):\n",
    "    \"\"\"\n",
    "    computes vector having its coeffs in basis\n",
    "    \"\"\"\n",
    "    return Vector(basis@coeffs)"
   ]
  },
  {
   "cell_type": "markdown",
   "metadata": {},
   "source": [
    "## Remarks on linear transformations\n",
    "In order to find (or build) the matrix of a linear transformation $F$ in a given basis ${\\bf B} = \\{e_1, e_2,\\dots, e_n\\}$ you must:\n",
    "* decompose images $F(e_i)$ of basis vectors in the basis ${\\bf B}$\n",
    "* put sets of coefficients of that decomposition as consecutive columns of the matrix $M$.\n",
    "Then, if you have the matrix $M$ and a vector $v$ you can compute the value $F(v)$ as follows:\n",
    "* decompose $v$ in ${\\bf B}$ to get coefficients $c_1, c_2,\\dots, c_n$\n",
    "* compute `M @ c` where `c` is a vector $[c_1, c_2,\\dots,c_n]$ - this gives you coeffs of $F(v)$ in ${\\bf B}$\n",
    "* compute $F(v)$ using calculated coeffs and ${\\bf B}$"
   ]
  },
  {
   "cell_type": "code",
   "execution_count": 94,
   "metadata": {},
   "outputs": [],
   "source": [
    "# F = np.array([[1,2,3], [-2,0,0], [0,1,2]])\n",
    "\n",
    "def F(vector):\n",
    "    x, y, z = vector\n",
    "    return Vector([2*x-y, x+z, -x+y+3*z])\n",
    "    \n",
    "e1, e2, e3 = Vector([1,3,-2]), Vector([0,1,2]), Vector([0,-3,1])\n",
    "\n",
    "E = np.hstack((e1, e2, e3))    # basis as 2d-array\n",
    "\n",
    "# matrix of F in basis E\n",
    "MF = np.hstack((decompose_in_basis(F(e1), E), decompose_in_basis(F(e2), E),\n",
    "                decompose_in_basis(F(e3), E)))\n",
    "               \n",
    "x = Vector([2,1,-3])\n",
    "xE = decompose_in_basis(x, E)  # xE - set of coeffs of x in E\n",
    "\n",
    "t = MF@xE  # set of coeffs of resulting F(xE) in basis E\n",
    "\n",
    "# print(F(x))\n",
    "# compose_in_basis(t, E)"
   ]
  },
  {
   "cell_type": "markdown",
   "metadata": {},
   "source": [
    "### Let's assume we have two bases\n",
    "Let ${\\bf E, E_1}$ be two basis: ${\\bf E} = [e_1, e_2,\\dots, e_n]$, ${\\bf E_1} = [e_1^{'}, e_2^{'},\\dots, e_n^{'}]$.\n",
    "\n",
    "Let $M$ be a two-dimensional array with **rows** built as follows: the first row is composed of coeffs of decomposition of $e_1^{'}$ in ${\\bf E}$, the second row is composed of coeffs of decomposition of $e_2$ in ${\\bf E}$ and so on.\n",
    "\n",
    "Similarly, let $M_1$ be a two-dimensional array arising from decomposition of vectors of ${\\bf E}$ in ${\\bf E_1}$. One can easily verify that $M$ and $M_1$ are *reciprocally inverse*.\n",
    "\n",
    "Now, if $[x_1,x_2,\\dots,x_n]$ are coeffs of $x$ in ${\\bf E}$ and $[x_1^{'},x_2^{'},\\dots,x_n^{'}]$ are coeffs of $x$ in ${\\bf E_1}$ then one can also check that\n",
    "\n",
    "$[x_1^{'},x_2^{'},\\dots,x_n^{'}] = [x_1,x_2,\\dots,x_n]\\circ M^{-1} = [x_1,x_2,\\dots,x_n]\\circ M_1$ (cf. above)."
   ]
  },
  {
   "cell_type": "code",
   "execution_count": 95,
   "metadata": {
    "scrolled": true
   },
   "outputs": [],
   "source": [
    "E = np.array([[1,2,3], [1,0,1], [0,-1,2]]).T\n",
    "E1 = np.array([[1,1,1], [-1,-1,2], [1,2,0]]).T\n",
    "\n",
    "M = np.vstack([decompose_in_basis(E1[:,j], E).reshape(1,-1) for j in range(3)])  # decompose vectors from E1 in E\n",
    "M1 = np.vstack([decompose_in_basis(E[:,j], E1).reshape(1,-1) for j in range(3)])\n",
    "\n",
    "# print(np.hstack([sum(M[k,j]*E[:,j] for j in range(3)).reshape(-1,1) for k in range(3)])) # recompose E1 from M"
   ]
  },
  {
   "cell_type": "code",
   "execution_count": 99,
   "metadata": {},
   "outputs": [
    {
     "name": "stdout",
     "output_type": "stream",
     "text": [
      "[[-1.]\n",
      " [ 8.]\n",
      " [-1.]]\n",
      "[[11.]\n",
      " [-4.]\n",
      " [-8.]]\n"
     ]
    }
   ],
   "source": [
    "x = Vector([7,-1,3])\n",
    "xE = decompose_in_basis(x, E)\n",
    "xE1 = decompose_in_basis(x, E1)\n",
    "\n",
    "print(xE)\n",
    "print(xE1)"
   ]
  },
  {
   "cell_type": "code",
   "execution_count": 5,
   "metadata": {},
   "outputs": [
    {
     "ename": "NameError",
     "evalue": "name 'xE1' is not defined",
     "output_type": "error",
     "traceback": [
      "\u001b[0;31m---------------------------------------------------------------------------\u001b[0m",
      "\u001b[0;31mNameError\u001b[0m                                 Traceback (most recent call last)",
      "\u001b[0;32m<ipython-input-5-d79d0a89e6f6>\u001b[0m in \u001b[0;36m<module>\u001b[0;34m()\u001b[0m\n\u001b[0;32m----> 1\u001b[0;31m \u001b[0mprint\u001b[0m\u001b[0;34m(\u001b[0m\u001b[0mxE1\u001b[0m\u001b[0;34m.\u001b[0m\u001b[0mT\u001b[0m\u001b[0;34m@\u001b[0m\u001b[0mM\u001b[0m\u001b[0;34m)\u001b[0m\u001b[0;34m\u001b[0m\u001b[0m\n\u001b[0m",
      "\u001b[0;31mNameError\u001b[0m: name 'xE1' is not defined"
     ]
    }
   ],
   "source": [
    "print(xE1.T@M)"
   ]
  },
  {
   "cell_type": "code",
   "execution_count": 22,
   "metadata": {},
   "outputs": [
    {
     "data": {
      "text/plain": [
       "6.294154347968077e-16"
      ]
     },
     "execution_count": 22,
     "metadata": {},
     "output_type": "execute_result"
    }
   ],
   "source": [
    "B = np.array([[1,2,3], [0,-2,1], [-1,1,2]]).T\n",
    "v4 = Vector([-2,3,1])\n",
    "\n",
    "a = Vector([-2,0,3])\n",
    "b = decompose_in_basis(compose_in_basis([-2,0,3], B), B)\n",
    "np.linalg.norm(a-b)\n"
   ]
  }
 ],
 "metadata": {
  "kernelspec": {
   "display_name": "Python 3",
   "language": "python",
   "name": "python3"
  },
  "language_info": {
   "codemirror_mode": {
    "name": "ipython",
    "version": 3
   },
   "file_extension": ".py",
   "mimetype": "text/x-python",
   "name": "python",
   "nbconvert_exporter": "python",
   "pygments_lexer": "ipython3",
   "version": "3.6.4"
  }
 },
 "nbformat": 4,
 "nbformat_minor": 2
}
